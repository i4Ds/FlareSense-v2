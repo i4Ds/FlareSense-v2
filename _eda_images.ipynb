{
 "cells": [
  {
   "cell_type": "code",
   "execution_count": null,
   "metadata": {},
   "outputs": [],
   "source": [
    "from datasets import load_dataset\n",
    "import matplotlib.pyplot as plt\n",
    "# Modeling\n",
    "import torch\n",
    "from torch.utils.data import DataLoader\n",
    "from torchvision.transforms import Compose\n",
    "from torchvision.transforms.functional import to_pil_image\n",
    "\n",
    "from ecallisto_dataset import (\n",
    "    EcallistoDatasetBinary,\n",
    "    CustomSpecAugment,\n",
    "    custom_resize,\n",
    "    TimeWarpAugmenter\n",
    ")\n",
    "from PIL import Image\n",
    "import pandas as pd\n",
    "from io import BytesIO\n",
    "print(f'PyTorch version {torch.__version__}')\n",
    "# Check if CUDA is available\n",
    "if torch.cuda.is_available():\n",
    "    print(f\"GPU is available: {torch.cuda.get_device_name(0)}\")\n",
    "    device = 'cuda'\n",
    "else:\n",
    "    print(\"GPU is not available.\")\n",
    "    device = 'cpu'"
   ]
  },
  {
   "cell_type": "code",
   "execution_count": null,
   "metadata": {},
   "outputs": [],
   "source": [
    "from datasets import load_dataset\n",
    "\n",
    "# Load the dataset with streaming enabled\n",
    "dataset = load_dataset(\"i4ds/ecallisto_radio_sunburst\", split=\"test\", streaming=True)\n",
    "\n",
    "# Get the first row\n",
    "single_row = next(iter(dataset))\n",
    "print(single_row)\n"
   ]
  },
  {
   "cell_type": "code",
   "execution_count": 3,
   "metadata": {},
   "outputs": [],
   "source": [
    "image = Image.open(BytesIO(single_row[\"image\"][\"bytes\"]))"
   ]
  },
  {
   "cell_type": "code",
   "execution_count": null,
   "metadata": {},
   "outputs": [],
   "source": [
    "image"
   ]
  },
  {
   "cell_type": "code",
   "execution_count": null,
   "metadata": {},
   "outputs": [],
   "source": [
    "from torchvision.transforms import Resize, ToTensor\n",
    "image_t = ToTensor()(image)\n",
    "image_t.shape"
   ]
  },
  {
   "cell_type": "code",
   "execution_count": 117,
   "metadata": {},
   "outputs": [
    {
     "data": {
      "text/plain": [
       "torch.Size([1, 193, 3600])"
      ]
     },
     "execution_count": 117,
     "metadata": {},
     "output_type": "execute_result"
    }
   ],
   "source": [
    "image_t.shape"
   ]
  },
  {
   "cell_type": "code",
   "execution_count": 7,
   "metadata": {},
   "outputs": [],
   "source": [
    "image_t_img = to_pil_image(image_t)"
   ]
  },
  {
   "cell_type": "code",
   "execution_count": null,
   "metadata": {},
   "outputs": [],
   "source": [
    "image_t_img"
   ]
  },
  {
   "cell_type": "code",
   "execution_count": 9,
   "metadata": {},
   "outputs": [],
   "source": [
    "from ecallisto_dataset import (\n",
    "    CustomSpecAugment,\n",
    "    EcallistoDatasetBinary,\n",
    "    TimeWarpAugmenter,\n",
    "    custom_resize,\n",
    "    filter_antennas,\n",
    "    randomly_reduce_class_samples,\n",
    "    remove_background,\n",
    ")"
   ]
  },
  {
   "cell_type": "code",
   "execution_count": 66,
   "metadata": {},
   "outputs": [],
   "source": [
    "# Transforms\n",
    "resize_func = Compose(\n",
    "    [\n",
    "        lambda x: custom_resize(x, (224, 224)),  # Resize the image\n",
    "    ]\n",
    ")\n",
    "augm_before_resize = TimeWarpAugmenter(1000)\n",
    "augm_after_resize = CustomSpecAugment(\n",
    "    frequency_masking_para=1,\n",
    "    time_masking_para=1,\n",
    "    method='random',\n",
    ")"
   ]
  },
  {
   "cell_type": "code",
   "execution_count": null,
   "metadata": {},
   "outputs": [],
   "source": [
    "# Transforms\n",
    "\n",
    "# Data Loader\n",
    "ds_burst = EcallistoDatasetBinary(\n",
    "    None,\n",
    "    resize_func=resize_func,\n",
    "    augm_before_resize=augm_before_resize,\n",
    "    augm_after_resize=augm_after_resize,\n",
    "    normalization_transform=remove_background,\n",
    ")\n",
    "\n",
    "\n",
    "test_dataloader = DataLoader(\n",
    "    ds_burst,\n",
    "    batch_size=32,\n",
    "    num_workers=8,\n",
    "    shuffle=False,\n",
    "    persistent_workers=False,\n",
    ")\n"
   ]
  },
  {
   "cell_type": "code",
   "execution_count": 115,
   "metadata": {},
   "outputs": [],
   "source": [
    "torch.save(image_t, 'img.torch')"
   ]
  },
  {
   "cell_type": "code",
   "execution_count": 112,
   "metadata": {},
   "outputs": [],
   "source": [
    "image_aug = ds_burst.augment_image(image_t.squeeze(0))"
   ]
  },
  {
   "cell_type": "code",
   "execution_count": null,
   "metadata": {},
   "outputs": [],
   "source": [
    "to_pil_image(image_aug)"
   ]
  }
 ],
 "metadata": {
  "kernelspec": {
   "display_name": "flaresense-v2",
   "language": "python",
   "name": "python3"
  },
  "language_info": {
   "codemirror_mode": {
    "name": "ipython",
    "version": 3
   },
   "file_extension": ".py",
   "mimetype": "text/x-python",
   "name": "python",
   "nbconvert_exporter": "python",
   "pygments_lexer": "ipython3",
   "version": "3.12.2"
  }
 },
 "nbformat": 4,
 "nbformat_minor": 2
}
