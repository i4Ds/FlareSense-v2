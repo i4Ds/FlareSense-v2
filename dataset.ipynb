{
 "cells": [
  {
   "cell_type": "code",
   "execution_count": 1,
   "metadata": {},
   "outputs": [
    {
     "name": "stderr",
     "output_type": "stream",
     "text": [
      "/home/vincenzo/miniconda3/envs/flaresense-v2/lib/python3.11/site-packages/tqdm/auto.py:21: TqdmWarning: IProgress not found. Please update jupyter and ipywidgets. See https://ipywidgets.readthedocs.io/en/stable/user_install.html\n",
      "  from .autonotebook import tqdm as notebook_tqdm\n"
     ]
    }
   ],
   "source": [
    "import wandb\n",
    "import torch\n",
    "import yaml\n",
    "from ecallisto_model import (\n",
    "    ResNet,\n",
    ")\n",
    "from torch.utils.data import DataLoader\n",
    "from torchvision.transforms import Compose\n",
    "from tqdm import tqdm\n",
    "from datasets import DatasetDict, load_dataset\n",
    "import pandas as pd\n",
    "from ecallisto_dataset import (\n",
    "    EcallistoDatasetBinary,\n",
    "    custom_resize,\n",
    "    remove_background,\n",
    ")\n"
   ]
  },
  {
   "cell_type": "code",
   "execution_count": 5,
   "metadata": {},
   "outputs": [],
   "source": [
    "ds_test = load_dataset(\"i4ds/radio-sunburst-ecallisto-paths-df-v2\", split=\"test\")"
   ]
  },
  {
   "cell_type": "code",
   "execution_count": 7,
   "metadata": {},
   "outputs": [
    {
     "data": {
      "text/plain": [
       "Dataset({\n",
       "    features: ['file_path', 'label', 'antenna', 'datetime'],\n",
       "    num_rows: 30549\n",
       "})"
      ]
     },
     "execution_count": 7,
     "metadata": {},
     "output_type": "execute_result"
    }
   ],
   "source": [
    "ds_test"
   ]
  },
  {
   "cell_type": "code",
   "execution_count": 9,
   "metadata": {},
   "outputs": [],
   "source": [
    "from sklearn.model_selection import train_test_split\n",
    "\n",
    "# Access the dataset\n",
    "data = ds_test['file_path']\n",
    "\n",
    "# Extract labels\n",
    "labels = ds_test['label']\n",
    "\n",
    "# Perform stratified split\n",
    "train_indices, val_indices = train_test_split(\n",
    "    range(len(data)),\n",
    "    test_size=0.2,        # Adjust the test_size as needed (e.g., 0.2 for 80/20 split)\n",
    "    stratify=labels,      # Stratify based on labels to maintain label ratios\n",
    "    random_state=42       # For reproducibility\n",
    ")\n"
   ]
  },
  {
   "cell_type": "code",
   "execution_count": 11,
   "metadata": {},
   "outputs": [],
   "source": [
    "from datasets import DatasetDict\n",
    "\n",
    "# Create the training and validation datasets\n",
    "train_dataset = ds_test.select(train_indices)\n",
    "val_dataset = ds_test.select(val_indices)\n",
    "\n",
    "# Create a DatasetDict with 'train' and 'validation' splits\n",
    "split_dataset = DatasetDict({\n",
    "    'train': train_dataset,\n",
    "    'validation': val_dataset\n",
    "})\n"
   ]
  },
  {
   "cell_type": "code",
   "execution_count": 12,
   "metadata": {},
   "outputs": [
    {
     "name": "stdout",
     "output_type": "stream",
     "text": [
      "Training Label Distribution:\n",
      " label\n",
      "False    0.865788\n",
      "True     0.134212\n",
      "Name: proportion, dtype: float64\n",
      "\n",
      "Validation Label Distribution:\n",
      " label\n",
      "False    0.865794\n",
      "True     0.134206\n",
      "Name: proportion, dtype: float64\n"
     ]
    }
   ],
   "source": [
    "import pandas as pd\n",
    "\n",
    "# Convert datasets to DataFrames for easy analysis\n",
    "train_df = train_dataset.to_pandas()\n",
    "val_df = val_dataset.to_pandas()\n",
    "\n",
    "# Calculate label distributions\n",
    "train_label_counts = train_df['label'].value_counts(normalize=True)\n",
    "val_label_counts = val_df['label'].value_counts(normalize=True)\n",
    "\n",
    "print(\"Training Label Distribution:\\n\", train_label_counts)\n",
    "print(\"\\nValidation Label Distribution:\\n\", val_label_counts)\n"
   ]
  },
  {
   "cell_type": "code",
   "execution_count": 13,
   "metadata": {},
   "outputs": [
    {
     "name": "stderr",
     "output_type": "stream",
     "text": [
      "Creating parquet from Arrow format: 100%|██████████| 25/25 [00:00<00:00, 41.63ba/s]\n",
      "Uploading the dataset shards: 100%|██████████| 1/1 [00:01<00:00,  1.50s/it]\n",
      "Creating parquet from Arrow format: 100%|██████████| 7/7 [00:00<00:00, 47.75ba/s]\n",
      "Uploading the dataset shards: 100%|██████████| 1/1 [00:00<00:00,  1.10it/s]\n"
     ]
    },
    {
     "data": {
      "text/plain": [
       "CommitInfo(commit_url='https://huggingface.co/datasets/i4ds/radio-sunburst-ecallisto-paths-df-v2-TEST-SET-SPLIT/commit/9e8d67433b790254139be346d49129b8b81bd51d', commit_message='Upload dataset', commit_description='', oid='9e8d67433b790254139be346d49129b8b81bd51d', pr_url=None, pr_revision=None, pr_num=None)"
      ]
     },
     "execution_count": 13,
     "metadata": {},
     "output_type": "execute_result"
    }
   ],
   "source": [
    "# Define the new dataset name\n",
    "new_dataset_name = 'i4ds/radio-sunburst-ecallisto-paths-df-v2-TEST-SET-SPLIT'\n",
    "\n",
    "# Push to Hugging Face Hub\n",
    "split_dataset.push_to_hub(new_dataset_name)\n"
   ]
  }
 ],
 "metadata": {
  "kernelspec": {
   "display_name": "flaresense-v2",
   "language": "python",
   "name": "python3"
  },
  "language_info": {
   "codemirror_mode": {
    "name": "ipython",
    "version": 3
   },
   "file_extension": ".py",
   "mimetype": "text/x-python",
   "name": "python",
   "nbconvert_exporter": "python",
   "pygments_lexer": "ipython3",
   "version": "3.11.9"
  }
 },
 "nbformat": 4,
 "nbformat_minor": 2
}
