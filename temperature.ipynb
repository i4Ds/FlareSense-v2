{
 "cells": [
  {
   "cell_type": "code",
   "execution_count": 5,
   "metadata": {},
   "outputs": [],
   "source": [
    "import pandas as pd\n",
    "from scipy.optimize import minimize\n"
   ]
  },
  {
   "cell_type": "code",
   "execution_count": 2,
   "metadata": {},
   "outputs": [],
   "source": [
    "# Replace 'data.csv' with the path to your CSV file\n",
    "df_train = pd.read_csv('26a3f9eddc82d3907db7749c34f68938_train.csv')\n",
    "df_val = pd.read_csv('26a3f9eddc82d3907db7749c34f68938_val.csv')\n",
    "\n"
   ]
  },
  {
   "cell_type": "code",
   "execution_count": 6,
   "metadata": {},
   "outputs": [
    {
     "data": {
      "text/html": [
       "<div>\n",
       "<style scoped>\n",
       "    .dataframe tbody tr th:only-of-type {\n",
       "        vertical-align: middle;\n",
       "    }\n",
       "\n",
       "    .dataframe tbody tr th {\n",
       "        vertical-align: top;\n",
       "    }\n",
       "\n",
       "    .dataframe thead th {\n",
       "        text-align: right;\n",
       "    }\n",
       "</style>\n",
       "<table border=\"1\" class=\"dataframe\">\n",
       "  <thead>\n",
       "    <tr style=\"text-align: right;\">\n",
       "      <th></th>\n",
       "      <th>Unnamed: 0</th>\n",
       "      <th>file_path</th>\n",
       "      <th>label</th>\n",
       "      <th>antenna</th>\n",
       "      <th>datetime</th>\n",
       "      <th>pred</th>\n",
       "    </tr>\n",
       "  </thead>\n",
       "  <tbody>\n",
       "    <tr>\n",
       "      <th>0</th>\n",
       "      <td>0</td>\n",
       "      <td>/mnt/nas05/data01/vincenzo/ecallisto/data/GLAS...</td>\n",
       "      <td>False</td>\n",
       "      <td>GLASGOW_01</td>\n",
       "      <td>2023-06-12 17:06:00</td>\n",
       "      <td>-3.445508</td>\n",
       "    </tr>\n",
       "    <tr>\n",
       "      <th>1</th>\n",
       "      <td>1</td>\n",
       "      <td>/mnt/nas05/data01/vincenzo/ecallisto/data/MRO_...</td>\n",
       "      <td>False</td>\n",
       "      <td>MRO_61</td>\n",
       "      <td>2024-03-13 14:29:00</td>\n",
       "      <td>-0.489554</td>\n",
       "    </tr>\n",
       "    <tr>\n",
       "      <th>2</th>\n",
       "      <td>2</td>\n",
       "      <td>/mnt/nas05/data01/vincenzo/ecallisto/data/BIR_...</td>\n",
       "      <td>False</td>\n",
       "      <td>BIR_01</td>\n",
       "      <td>2022-06-15 09:04:00</td>\n",
       "      <td>-6.871867</td>\n",
       "    </tr>\n",
       "    <tr>\n",
       "      <th>3</th>\n",
       "      <td>3</td>\n",
       "      <td>/mnt/nas05/data01/vincenzo/ecallisto/data/ALAS...</td>\n",
       "      <td>False</td>\n",
       "      <td>ALASKA-HAARP_62</td>\n",
       "      <td>2022-04-29 02:19:00</td>\n",
       "      <td>-6.750520</td>\n",
       "    </tr>\n",
       "    <tr>\n",
       "      <th>4</th>\n",
       "      <td>4</td>\n",
       "      <td>/mnt/nas05/data01/vincenzo/ecallisto/data/BIR_...</td>\n",
       "      <td>False</td>\n",
       "      <td>BIR_01</td>\n",
       "      <td>2023-03-31 04:47:00</td>\n",
       "      <td>-6.865746</td>\n",
       "    </tr>\n",
       "    <tr>\n",
       "      <th>...</th>\n",
       "      <td>...</td>\n",
       "      <td>...</td>\n",
       "      <td>...</td>\n",
       "      <td>...</td>\n",
       "      <td>...</td>\n",
       "      <td>...</td>\n",
       "    </tr>\n",
       "    <tr>\n",
       "      <th>24434</th>\n",
       "      <td>24434</td>\n",
       "      <td>/mnt/nas05/data01/vincenzo/ecallisto/data/MONG...</td>\n",
       "      <td>False</td>\n",
       "      <td>MONGOLIA-UB_01</td>\n",
       "      <td>2022-12-02 01:25:00</td>\n",
       "      <td>-5.138582</td>\n",
       "    </tr>\n",
       "    <tr>\n",
       "      <th>24435</th>\n",
       "      <td>24435</td>\n",
       "      <td>/mnt/nas05/data01/vincenzo/ecallisto/data/MRO_...</td>\n",
       "      <td>False</td>\n",
       "      <td>MRO_59</td>\n",
       "      <td>2024-03-06 07:29:00</td>\n",
       "      <td>-5.866956</td>\n",
       "    </tr>\n",
       "    <tr>\n",
       "      <th>24436</th>\n",
       "      <td>24436</td>\n",
       "      <td>/mnt/nas05/data01/vincenzo/ecallisto/data/ALAS...</td>\n",
       "      <td>False</td>\n",
       "      <td>ALASKA-HAARP_62</td>\n",
       "      <td>2022-02-11 19:27:00</td>\n",
       "      <td>-4.755669</td>\n",
       "    </tr>\n",
       "    <tr>\n",
       "      <th>24437</th>\n",
       "      <td>24437</td>\n",
       "      <td>/mnt/nas05/data01/vincenzo/ecallisto/data/GLAS...</td>\n",
       "      <td>False</td>\n",
       "      <td>GLASGOW_01</td>\n",
       "      <td>2023-06-30 07:03:00</td>\n",
       "      <td>-5.218491</td>\n",
       "    </tr>\n",
       "    <tr>\n",
       "      <th>24438</th>\n",
       "      <td>24438</td>\n",
       "      <td>/mnt/nas05/data01/vincenzo/ecallisto/data/Aust...</td>\n",
       "      <td>False</td>\n",
       "      <td>Australia-ASSA_62</td>\n",
       "      <td>2023-03-15 22:41:00</td>\n",
       "      <td>-6.509897</td>\n",
       "    </tr>\n",
       "  </tbody>\n",
       "</table>\n",
       "<p>24439 rows × 6 columns</p>\n",
       "</div>"
      ],
      "text/plain": [
       "       Unnamed: 0                                          file_path  label  \\\n",
       "0               0  /mnt/nas05/data01/vincenzo/ecallisto/data/GLAS...  False   \n",
       "1               1  /mnt/nas05/data01/vincenzo/ecallisto/data/MRO_...  False   \n",
       "2               2  /mnt/nas05/data01/vincenzo/ecallisto/data/BIR_...  False   \n",
       "3               3  /mnt/nas05/data01/vincenzo/ecallisto/data/ALAS...  False   \n",
       "4               4  /mnt/nas05/data01/vincenzo/ecallisto/data/BIR_...  False   \n",
       "...           ...                                                ...    ...   \n",
       "24434       24434  /mnt/nas05/data01/vincenzo/ecallisto/data/MONG...  False   \n",
       "24435       24435  /mnt/nas05/data01/vincenzo/ecallisto/data/MRO_...  False   \n",
       "24436       24436  /mnt/nas05/data01/vincenzo/ecallisto/data/ALAS...  False   \n",
       "24437       24437  /mnt/nas05/data01/vincenzo/ecallisto/data/GLAS...  False   \n",
       "24438       24438  /mnt/nas05/data01/vincenzo/ecallisto/data/Aust...  False   \n",
       "\n",
       "                 antenna             datetime      pred  \n",
       "0             GLASGOW_01  2023-06-12 17:06:00 -3.445508  \n",
       "1                 MRO_61  2024-03-13 14:29:00 -0.489554  \n",
       "2                 BIR_01  2022-06-15 09:04:00 -6.871867  \n",
       "3        ALASKA-HAARP_62  2022-04-29 02:19:00 -6.750520  \n",
       "4                 BIR_01  2023-03-31 04:47:00 -6.865746  \n",
       "...                  ...                  ...       ...  \n",
       "24434     MONGOLIA-UB_01  2022-12-02 01:25:00 -5.138582  \n",
       "24435             MRO_59  2024-03-06 07:29:00 -5.866956  \n",
       "24436    ALASKA-HAARP_62  2022-02-11 19:27:00 -4.755669  \n",
       "24437         GLASGOW_01  2023-06-30 07:03:00 -5.218491  \n",
       "24438  Australia-ASSA_62  2023-03-15 22:41:00 -6.509897  \n",
       "\n",
       "[24439 rows x 6 columns]"
      ]
     },
     "execution_count": 6,
     "metadata": {},
     "output_type": "execute_result"
    }
   ],
   "source": [
    "df_train"
   ]
  },
  {
   "cell_type": "code",
   "execution_count": 29,
   "metadata": {},
   "outputs": [],
   "source": [
    "import torch\n",
    "import torch.nn.functional as F\n",
    "\n",
    "def temperature_scaled_logits(logits, T):\n",
    "    return logits / T\n",
    "\n",
    "def bce_loss_with_temperature(logits, targets, T):\n",
    "    # Apply temperature scaling\n",
    "    scaled_logits = temperature_scaled_logits(logits, T)\n",
    "    # Compute binary cross-entropy loss\n",
    "    return F.binary_cross_entropy_with_logits(scaled_logits, targets)\n",
    "\n",
    "# Assuming you have saved training and validation logits and targets\n",
    "# Train and validation logits\n",
    "train_logits, train_targets =  torch.tensor(df_train['pred']), torch.tensor(df_train['label'], dtype=float)\n",
    "val_logits, val_targets =  torch.tensor(df_val['pred']),  torch.tensor(df_val['label'], dtype=float)\n",
    "\n",
    "# Train loss (without temperature scaling)\n",
    "train_loss = F.binary_cross_entropy_with_logits(train_logits, train_targets)\n",
    "\n",
    "# Function to minimize for T\n",
    "def loss_diff(T):\n",
    "    T = torch.tensor(T)\n",
    "    val_loss = bce_loss_with_temperature(val_logits, val_targets, T)\n",
    "    # Minimize the difference between train loss and val loss\n",
    "    return (val_loss - train_loss).abs()\n",
    "\n",
    "# Optimize T (use a method like scipy.optimize.minimize or grid search)\n"
   ]
  },
  {
   "cell_type": "code",
   "execution_count": 27,
   "metadata": {},
   "outputs": [
    {
     "data": {
      "text/plain": [
       "tensor(0.3461, dtype=torch.float64)"
      ]
     },
     "execution_count": 27,
     "metadata": {},
     "output_type": "execute_result"
    }
   ],
   "source": [
    "bce_loss_with_temperature(train_logits, train_targets, 5)"
   ]
  },
  {
   "cell_type": "code",
   "execution_count": 20,
   "metadata": {},
   "outputs": [],
   "source": [
    "from scipy.optimize import minimize"
   ]
  },
  {
   "cell_type": "code",
   "execution_count": 31,
   "metadata": {},
   "outputs": [
    {
     "data": {
      "text/plain": [
       "  message: Optimization terminated successfully.\n",
       "  success: True\n",
       "   status: 0\n",
       "      fun: 0.017933786196292795\n",
       "        x: [ 1.066e+00]\n",
       "      nit: 4\n",
       "      jac: [ 4.992e-07]\n",
       " hess_inv: [[ 5.725e+00]]\n",
       "     nfev: 20\n",
       "     njev: 10"
      ]
     },
     "execution_count": 31,
     "metadata": {},
     "output_type": "execute_result"
    }
   ],
   "source": [
    "minimize(loss_diff, 5)"
   ]
  },
  {
   "cell_type": "code",
   "execution_count": 49,
   "metadata": {},
   "outputs": [
    {
     "data": {
      "text/plain": [
       "tensor(0.1048, dtype=torch.float64)"
      ]
     },
     "execution_count": 49,
     "metadata": {},
     "output_type": "execute_result"
    }
   ],
   "source": [
    "bce_loss_with_temperature(train_logits, train_targets,  1.066)"
   ]
  },
  {
   "cell_type": "code",
   "execution_count": 48,
   "metadata": {},
   "outputs": [
    {
     "data": {
      "text/plain": [
       "tensor(0.1221, dtype=torch.float64)"
      ]
     },
     "execution_count": 48,
     "metadata": {},
     "output_type": "execute_result"
    }
   ],
   "source": [
    "bce_loss_with_temperature(val_logits, val_targets, 1.066)"
   ]
  }
 ],
 "metadata": {
  "kernelspec": {
   "display_name": "flaresense-v2",
   "language": "python",
   "name": "python3"
  },
  "language_info": {
   "codemirror_mode": {
    "name": "ipython",
    "version": 3
   },
   "file_extension": ".py",
   "mimetype": "text/x-python",
   "name": "python",
   "nbconvert_exporter": "python",
   "pygments_lexer": "ipython3",
   "version": "3.11.9"
  }
 },
 "nbformat": 4,
 "nbformat_minor": 2
}
