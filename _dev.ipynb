{
 "cells": [
  {
   "cell_type": "code",
   "execution_count": 1,
   "metadata": {},
   "outputs": [
    {
     "name": "stdout",
     "output_type": "stream",
     "text": [
      "PyTorch version 2.2.1+cu121\n",
      "GPU is available: NVIDIA GeForce RTX 4070 Laptop GPU\n"
     ]
    }
   ],
   "source": [
    "from datasets import load_dataset\n",
    "import matplotlib.pyplot as plt\n",
    "import numpy as np\n",
    "from datasets import DatasetDict\n",
    "import torch\n",
    "import numpy as np\n",
    "from torchvision.transforms import Resize, Compose, Normalize\n",
    "\n",
    "from pytorch_lightning.loggers import WandbLogger\n",
    "from pytorch_lightning import Trainer, LightningModule\n",
    "from torchvision import models\n",
    "import torch.nn.functional as F\n",
    "from torchmetrics import Accuracy\n",
    "from sklearn.utils.class_weight import compute_class_weight\n",
    "import wandb\n",
    "\n",
    "# Modeling\n",
    "import torch\n",
    "import torch.nn as nn\n",
    "import numpy as np\n",
    "from torchvision.transforms.functional import pil_to_tensor\n",
    "from torch.utils.data import Dataset,DataLoader\n",
    "\n",
    "# Visualization\n",
    "import matplotlib.pyplot as plt\n",
    "%matplotlib inline\n",
    "\n",
    "print(f'PyTorch version {torch.__version__}')\n",
    "import torch\n",
    "\n",
    "# Check if CUDA is available\n",
    "if torch.cuda.is_available():\n",
    "    print(f\"GPU is available: {torch.cuda.get_device_name(0)}\")\n",
    "    device = 'cuda'\n",
    "else:\n",
    "    print(\"GPU is not available.\")\n",
    "    device = 'cpu'"
   ]
  },
  {
   "cell_type": "code",
   "execution_count": 2,
   "metadata": {},
   "outputs": [
    {
     "name": "stderr",
     "output_type": "stream",
     "text": [
      "Failed to detect the name of this notebook, you can set it manually with the WANDB_NOTEBOOK_NAME environment variable to enable code saving.\n",
      "\u001b[34m\u001b[1mwandb\u001b[0m: Currently logged in as: \u001b[33mvincenzo-timmel\u001b[0m. Use \u001b[1m`wandb login --relogin`\u001b[0m to force relogin\n"
     ]
    },
    {
     "data": {
      "text/html": [
       "Tracking run with wandb version 0.16.3"
      ],
      "text/plain": [
       "<IPython.core.display.HTML object>"
      ]
     },
     "metadata": {},
     "output_type": "display_data"
    },
    {
     "data": {
      "text/html": [
       "Run data is saved locally in <code>c:\\Users\\vince\\FlareSense-v2\\wandb\\run-20240301_193139-5jm8mxp6</code>"
      ],
      "text/plain": [
       "<IPython.core.display.HTML object>"
      ]
     },
     "metadata": {},
     "output_type": "display_data"
    },
    {
     "data": {
      "text/html": [
       "Syncing run <strong><a href='https://wandb.ai/vincenzo-timmel/FlareSense-v2/runs/5jm8mxp6' target=\"_blank\">glamorous-dust-5</a></strong> to <a href='https://wandb.ai/vincenzo-timmel/FlareSense-v2' target=\"_blank\">Weights & Biases</a> (<a href='https://wandb.me/run' target=\"_blank\">docs</a>)<br/>"
      ],
      "text/plain": [
       "<IPython.core.display.HTML object>"
      ]
     },
     "metadata": {},
     "output_type": "display_data"
    },
    {
     "data": {
      "text/html": [
       " View project at <a href='https://wandb.ai/vincenzo-timmel/FlareSense-v2' target=\"_blank\">https://wandb.ai/vincenzo-timmel/FlareSense-v2</a>"
      ],
      "text/plain": [
       "<IPython.core.display.HTML object>"
      ]
     },
     "metadata": {},
     "output_type": "display_data"
    },
    {
     "data": {
      "text/html": [
       " View run at <a href='https://wandb.ai/vincenzo-timmel/FlareSense-v2/runs/5jm8mxp6' target=\"_blank\">https://wandb.ai/vincenzo-timmel/FlareSense-v2/runs/5jm8mxp6</a>"
      ],
      "text/plain": [
       "<IPython.core.display.HTML object>"
      ]
     },
     "metadata": {},
     "output_type": "display_data"
    },
    {
     "data": {
      "text/html": [
       "<button onClick=\"this.nextSibling.style.display='block';this.style.display='none';\">Display W&B run</button><iframe src='https://wandb.ai/vincenzo-timmel/FlareSense-v2/runs/5jm8mxp6?jupyter=true' style='border:none;width:100%;height:420px;display:none;'></iframe>"
      ],
      "text/plain": [
       "<wandb.sdk.wandb_run.Run at 0x22e15626e40>"
      ]
     },
     "execution_count": 2,
     "metadata": {},
     "output_type": "execute_result"
    }
   ],
   "source": [
    "wandb.init(entity='vincenzo-timmel')"
   ]
  },
  {
   "cell_type": "code",
   "execution_count": 3,
   "metadata": {},
   "outputs": [],
   "source": [
    "ds = load_dataset('i4ds/radio-sunburst-ecallisto')"
   ]
  },
  {
   "cell_type": "code",
   "execution_count": 4,
   "metadata": {},
   "outputs": [],
   "source": [
    "dd = DatasetDict()\n",
    "dd['train'] = ds['train']\n",
    "dd['test'] = ds['test']\n",
    "dd['validation'] = ds['validation']"
   ]
  },
  {
   "cell_type": "code",
   "execution_count": 5,
   "metadata": {},
   "outputs": [],
   "source": [
    "def to_torch_tensor(example):\n",
    "    # Convert the PIL image to a tensor\n",
    "    example['image'] = pil_to_tensor(example['image'])\n",
    "    return example\n",
    "\n",
    "def scale(example, max_value=255):\n",
    "    example['image'] = torch.div(example['image'], max_value)\n",
    "    return example\n",
    "\n",
    "def preprocess(example):\n",
    "    example = to_torch_tensor(example)\n",
    "    example = scale(example)\n",
    "    return example"
   ]
  },
  {
   "cell_type": "code",
   "execution_count": 6,
   "metadata": {},
   "outputs": [],
   "source": [
    "# Dataset\n",
    "class EcallistoData(Dataset):\n",
    "    def __init__(self, dataset, prepro=preprocess, transform=None, return_all_columns=False):\n",
    "        super().__init__()\n",
    "        self.data = dataset\n",
    "        self.prepro = prepro\n",
    "        self.transform = transform\n",
    "        self.return_all_columns = return_all_columns\n",
    "\n",
    "    def __len__(self):\n",
    "        \"\"\"Function to return the number of records in the dataset\n",
    "        \"\"\" \n",
    "        return len(self.data)\n",
    "    \n",
    "    def __getitem__(self, index):\n",
    "        \"\"\"Function to return samples corresponding to a given index from a dataset\n",
    "        \"\"\" \n",
    "        # Transform images\n",
    "        if self.prepro:\n",
    "            img = self.prepro(self.data[index])\n",
    "        if self.transform:\n",
    "            img['image'] = self.transform(img['image'])\n",
    "        if not self.return_all_columns:\n",
    "            return torch.tensor(img['image']), torch.tensor(self.data[index]['label'])\n",
    "        else: \n",
    "            return self.data[index]"
   ]
  },
  {
   "cell_type": "code",
   "execution_count": 7,
   "metadata": {},
   "outputs": [],
   "source": [
    "normalize = Normalize(mean=0.5721, std=0.1100)\n",
    "size = (224, 244)"
   ]
  },
  {
   "cell_type": "code",
   "execution_count": 8,
   "metadata": {},
   "outputs": [],
   "source": [
    "_transforms = Compose([Resize(size), normalize])"
   ]
  },
  {
   "cell_type": "code",
   "execution_count": 9,
   "metadata": {},
   "outputs": [],
   "source": [
    "ds_train = EcallistoData(dd['train'], transform=_transforms)\n",
    "ds_valid = EcallistoData(dd['validation'], transform=_transforms)\n",
    "ds_test = EcallistoData(dd['test'], return_all_columns=True)"
   ]
  },
  {
   "cell_type": "code",
   "execution_count": 17,
   "metadata": {},
   "outputs": [],
   "source": [
    "BATCH_SIZE = 32"
   ]
  },
  {
   "cell_type": "code",
   "execution_count": 30,
   "metadata": {},
   "outputs": [],
   "source": [
    "train_dataloader = DataLoader(ds_train,\n",
    "                    batch_size=BATCH_SIZE,\n",
    "                    num_workers=0,\n",
    "                    shuffle=True)\n",
    "\n",
    "val_dataloader = DataLoader(ds_valid,\n",
    "                    batch_size=BATCH_SIZE,\n",
    "                    num_workers=0,\n",
    "                    shuffle=False)"
   ]
  },
  {
   "cell_type": "code",
   "execution_count": 31,
   "metadata": {},
   "outputs": [],
   "source": [
    "wandb_logger = WandbLogger(log_model=\"all\")"
   ]
  },
  {
   "cell_type": "code",
   "execution_count": 36,
   "metadata": {},
   "outputs": [],
   "source": [
    "class EfficientNet(LightningModule):\n",
    "  def __init__(self, n_classes, class_weights, model_weights=None):\n",
    "    super().__init__()\n",
    "    self.efficient_net = models.efficientnet_v2_s(weights=model_weights)\n",
    "    # Adapt layer to our layer\n",
    "    self.efficient_net.classifier[1] = nn.Linear(in_features=1280, out_features=n_classes, bias=True)\n",
    "    self.accuracy = Accuracy(task=\"multiclass\", num_classes=n_classes)\n",
    "    self.class_weights = class_weights\n",
    "    \n",
    "  def forward(self,x):\n",
    "    # Convert grayscale image to 3-channel image if it's not already\n",
    "    if x.size(1) == 1:\n",
    "      x = x.repeat(1, 3, 1, 1)\n",
    "    out = self.efficient_net(x)\n",
    "    return out\n",
    "  \n",
    "  def configure_optimizers(self):\n",
    "    optimizer = torch.optim.Adam(self.parameters(),lr = 1e-4)\n",
    "    return optimizer\n",
    "  \n",
    "  def training_step(self,batch,batch_idx):\n",
    "    x,y = batch\n",
    "    y_hat = self(x)\n",
    "    if self.class_weights is not None:\n",
    "        loss = F.cross_entropy(y_hat, y, weight=self.class_weights.to(y.device))\n",
    "    else:\n",
    "        loss = F.cross_entropy(y_hat, y)\n",
    "    # logs metrics for each training_step - [default:True],\n",
    "    # the average across the epoch, to the progress bar and logger-[default:False]\n",
    "    acc = self.accuracy(y_hat,y)\n",
    "    self.log(\"train_acc\",acc,on_step=True,on_epoch=True,prog_bar=True,logger=True),\n",
    "    self.log(\"train_loss\",loss,on_step=True,on_epoch=True,prog_bar=True,logger=True)\n",
    "    return loss\n",
    "  \n",
    "  def validation_step(self,batch,batch_idx):\n",
    "    x,y = batch\n",
    "    y_hat = self(x)\n",
    "    loss = F.cross_entropy(y_hat,y)\n",
    "    acc = self.accuracy(y_hat,y)\n",
    "    # logs metrics for each validation_step - [default:False]\n",
    "    #the average across the epoch - [default:True]\n",
    "    self.log(\"val_acc\",acc,prog_bar=True,logger=True),\n",
    "    self.log(\"val_loss\",loss,prog_bar=True,logger=True)"
   ]
  },
  {
   "cell_type": "code",
   "execution_count": 37,
   "metadata": {},
   "outputs": [],
   "source": [
    "cw = compute_class_weight(class_weight='balanced', classes=np.unique(dd['train']['label']), y=dd['train']['label'])"
   ]
  },
  {
   "cell_type": "code",
   "execution_count": 38,
   "metadata": {},
   "outputs": [],
   "source": [
    "model = EfficientNet(len(np.unique(dd['train']['label'])), torch.tensor(cw, dtype=torch.float))"
   ]
  },
  {
   "cell_type": "code",
   "execution_count": 39,
   "metadata": {},
   "outputs": [
    {
     "name": "stderr",
     "output_type": "stream",
     "text": [
      "GPU available: True (cuda), used: True\n",
      "TPU available: False, using: 0 TPU cores\n",
      "IPU available: False, using: 0 IPUs\n",
      "HPU available: False, using: 0 HPUs\n",
      "c:\\Users\\vince\\miniconda3\\envs\\flaresense-v2\\Lib\\site-packages\\pytorch_lightning\\callbacks\\model_checkpoint.py:652: Checkpoint directory .\\lightning_logs\\5jm8mxp6\\checkpoints exists and is not empty.\n",
      "LOCAL_RANK: 0 - CUDA_VISIBLE_DEVICES: [0]\n"
     ]
    },
    {
     "name": "stderr",
     "output_type": "stream",
     "text": [
      "\n",
      "  | Name          | Type               | Params\n",
      "-----------------------------------------------------\n",
      "0 | efficient_net | EfficientNet       | 20.2 M\n",
      "1 | accuracy      | MulticlassAccuracy | 0     \n",
      "-----------------------------------------------------\n",
      "20.2 M    Trainable params\n",
      "0         Non-trainable params\n",
      "20.2 M    Total params\n",
      "80.746    Total estimated model params size (MB)\n"
     ]
    },
    {
     "data": {
      "application/vnd.jupyter.widget-view+json": {
       "model_id": "d36bc3b5d56d4a8f8cd2e1b7d18b0b9e",
       "version_major": 2,
       "version_minor": 0
      },
      "text/plain": [
       "Sanity Checking: |          | 0/? [00:00<?, ?it/s]"
      ]
     },
     "metadata": {},
     "output_type": "display_data"
    },
    {
     "name": "stderr",
     "output_type": "stream",
     "text": [
      "c:\\Users\\vince\\miniconda3\\envs\\flaresense-v2\\Lib\\site-packages\\pytorch_lightning\\trainer\\connectors\\data_connector.py:441: The 'val_dataloader' does not have many workers which may be a bottleneck. Consider increasing the value of the `num_workers` argument` to `num_workers=19` in the `DataLoader` to improve performance.\n",
      "C:\\Users\\vince\\AppData\\Local\\Temp\\ipykernel_29208\\230362761.py:24: UserWarning: To copy construct from a tensor, it is recommended to use sourceTensor.clone().detach() or sourceTensor.clone().detach().requires_grad_(True), rather than torch.tensor(sourceTensor).\n",
      "  return torch.tensor(img['image']), torch.tensor(self.data[index]['label'])\n",
      "c:\\Users\\vince\\miniconda3\\envs\\flaresense-v2\\Lib\\site-packages\\pytorch_lightning\\trainer\\connectors\\data_connector.py:441: The 'train_dataloader' does not have many workers which may be a bottleneck. Consider increasing the value of the `num_workers` argument` to `num_workers=19` in the `DataLoader` to improve performance.\n"
     ]
    },
    {
     "data": {
      "application/vnd.jupyter.widget-view+json": {
       "model_id": "a9068a934da94fef8b7ee7c061ba269e",
       "version_major": 2,
       "version_minor": 0
      },
      "text/plain": [
       "Training: |          | 0/? [00:00<?, ?it/s]"
      ]
     },
     "metadata": {},
     "output_type": "display_data"
    },
    {
     "name": "stderr",
     "output_type": "stream",
     "text": [
      "c:\\Users\\vince\\miniconda3\\envs\\flaresense-v2\\Lib\\site-packages\\pytorch_lightning\\trainer\\call.py:54: Detected KeyboardInterrupt, attempting graceful shutdown...\n"
     ]
    }
   ],
   "source": [
    "trainer = Trainer(accelerator='gpu', \n",
    "    max_epochs=1, logger=wandb_logger)\n",
    "trainer.fit(model=model, \n",
    "            train_dataloaders=train_dataloader,\n",
    "              val_dataloaders=val_dataloader)\n"
   ]
  },
  {
   "cell_type": "code",
   "execution_count": null,
   "metadata": {},
   "outputs": [],
   "source": []
  }
 ],
 "metadata": {
  "kernelspec": {
   "display_name": "flaresense-v2",
   "language": "python",
   "name": "python3"
  },
  "language_info": {
   "codemirror_mode": {
    "name": "ipython",
    "version": 3
   },
   "file_extension": ".py",
   "mimetype": "text/x-python",
   "name": "python",
   "nbconvert_exporter": "python",
   "pygments_lexer": "ipython3",
   "version": "3.12.2"
  }
 },
 "nbformat": 4,
 "nbformat_minor": 2
}
