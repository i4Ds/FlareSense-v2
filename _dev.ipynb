{
 "cells": [
  {
   "cell_type": "code",
   "execution_count": 1,
   "metadata": {},
   "outputs": [
    {
     "name": "stderr",
     "output_type": "stream",
     "text": [
      "/home/vincenzo/miniconda3/envs/flaresense-v2/lib/python3.12/site-packages/tqdm/auto.py:21: TqdmWarning: IProgress not found. Please update jupyter and ipywidgets. See https://ipywidgets.readthedocs.io/en/stable/user_install.html\n",
      "  from .autonotebook import tqdm as notebook_tqdm\n"
     ]
    }
   ],
   "source": [
    "from datasets import load_dataset\n",
    "from datasets import Dataset\n",
    "import matplotlib.pyplot as plt"
   ]
  },
  {
   "cell_type": "code",
   "execution_count": 2,
   "metadata": {},
   "outputs": [
    {
     "name": "stderr",
     "output_type": "stream",
     "text": [
      "Downloading readme: 100%|██████████| 3.67k/3.67k [00:00<00:00, 20.0MB/s]\n",
      "Downloading data: 100%|██████████| 591M/591M [00:58<00:00, 10.0MB/s] \n",
      "Downloading data: 100%|██████████| 588M/588M [01:06<00:00, 8.86MB/s] \n",
      "Downloading data: 100%|██████████| 147M/147M [00:15<00:00, 9.42MB/s] \n",
      "Downloading data: 100%|██████████| 148M/148M [00:13<00:00, 10.6MB/s] \n",
      "Generating train split: 100%|██████████| 72123/72123 [00:02<00:00, 27828.13 examples/s]\n",
      "Generating validation split: 100%|██████████| 9010/9010 [00:00<00:00, 26785.64 examples/s]\n",
      "Generating test split: 100%|██████████| 9010/9010 [00:00<00:00, 20646.17 examples/s]\n"
     ]
    }
   ],
   "source": [
    "ds = load_dataset('i4ds/radio-sunburst-ecallisto')"
   ]
  }
 ],
 "metadata": {
  "kernelspec": {
   "display_name": "base",
   "language": "python",
   "name": "python3"
  },
  "language_info": {
   "codemirror_mode": {
    "name": "ipython",
    "version": 3
   },
   "file_extension": ".py",
   "mimetype": "text/x-python",
   "name": "python",
   "nbconvert_exporter": "python",
   "pygments_lexer": "ipython3",
   "version": "3.12.2"
  }
 },
 "nbformat": 4,
 "nbformat_minor": 2
}
