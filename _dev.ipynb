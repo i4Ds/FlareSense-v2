{
 "cells": [
  {
   "cell_type": "code",
   "execution_count": null,
   "metadata": {},
   "outputs": [
    {
     "name": "stderr",
     "output_type": "stream",
     "text": [
      "/home/kenfus/miniconda3/envs/flaresense-v2/lib/python3.12/site-packages/tqdm/auto.py:21: TqdmWarning: IProgress not found. Please update jupyter and ipywidgets. See https://ipywidgets.readthedocs.io/en/stable/user_install.html\n",
      "  from .autonotebook import tqdm as notebook_tqdm\n"
     ]
    }
   ],
   "source": [
    "from datasets import load_dataset\n",
    "import matplotlib.pyplot as plt\n",
    "from transformers import EfficientNetModel\n",
    "from torchvision import datasets, transforms\n",
    "from torchvision.transforms.functional import pil_to_tensor\n",
    "import torch\n",
    "import numpy as np"
   ]
  },
  {
   "cell_type": "code",
   "execution_count": null,
   "metadata": {},
   "outputs": [],
   "source": [
    "ds = load_dataset('i4ds/radio-sunburst-ecallisto')"
   ]
  },
  {
   "cell_type": "code",
   "execution_count": null,
   "metadata": {},
   "outputs": [],
   "source": [
    "def to_torch_tensor(example):\n",
    "    # Convert the PIL image to a NumPy array for checking\n",
    "    np_image = np.array(example['image'])\n",
    "\n",
    "    # Check if any value is above 255\n",
    "    if np.any(np_image > 255):\n",
    "        print(\"Found value above 255 in example:\", example)\n",
    "\n",
    "    # Check if the image is not uint8\n",
    "    if np_image.dtype != np.uint8:\n",
    "        print(\"Image is not of type uint8 in example:\", example)\n",
    "\n",
    "    # Convert the PIL image to a tensor\n",
    "    example['image'] = pil_to_tensor(example['image'])\n",
    "    return example\n",
    "\n",
    "\n",
    "def scale(example, max_value=255):\n",
    "    example['image'] = torch.div(example['image'], max_value)\n",
    "    return example"
   ]
  },
  {
   "cell_type": "code",
   "execution_count": null,
   "metadata": {},
   "outputs": [
    {
     "name": "stderr",
     "output_type": "stream",
     "text": [
      "Map:   1%|▏         | 954/72123 [00:17<01:02, 1142.29 examples/s]/home/kenfus/miniconda3/envs/flaresense-v2/lib/python3.12/site-packages/datasets/features/image.py:332: UserWarning: Downcasting array dtype int64 to uint8 to be compatible with 'Pillow'\n",
      "  warnings.warn(f\"Downcasting array dtype {dtype} to {dest_dtype} to be compatible with 'Pillow'\")\n",
      "Map: 100%|██████████| 72123/72123 [02:18<00:00, 521.13 examples/s] \n",
      "Map: 100%|██████████| 9010/9010 [00:46<00:00, 194.20 examples/s] \n",
      "Map: 100%|██████████| 9010/9010 [00:47<00:00, 188.45 examples/s]\n"
     ]
    }
   ],
   "source": [
    "ds_tensor = ds.map(to_torch_tensor)"
   ]
  },
  {
   "cell_type": "code",
   "execution_count": null,
   "metadata": {},
   "outputs": [],
   "source": [
    "ds_tensor = ds_tensor.map(scale)"
   ]
  },
  {
   "cell_type": "code",
   "execution_count": null,
   "metadata": {},
   "outputs": [
    {
     "ename": "NameError",
     "evalue": "name 'torch' is not defined",
     "output_type": "error",
     "traceback": [
      "\u001b[0;31m---------------------------------------------------------------------------\u001b[0m",
      "\u001b[0;31mNameError\u001b[0m                                 Traceback (most recent call last)",
      "Cell \u001b[0;32mIn[18], line 1\u001b[0m\n\u001b[0;32m----> 1\u001b[0m mean \u001b[38;5;241m=\u001b[39m \u001b[43mtorch\u001b[49m\u001b[38;5;241m.\u001b[39mmean(torch\u001b[38;5;241m.\u001b[39mstack(ds[\u001b[38;5;124m'\u001b[39m\u001b[38;5;124mtrain\u001b[39m\u001b[38;5;124m'\u001b[39m][\u001b[38;5;124m'\u001b[39m\u001b[38;5;124mimage\u001b[39m\u001b[38;5;124m'\u001b[39m]))\n\u001b[1;32m      2\u001b[0m std \u001b[38;5;241m=\u001b[39m torch\u001b[38;5;241m.\u001b[39mstd(torch\u001b[38;5;241m.\u001b[39mstack(ds[\u001b[38;5;124m'\u001b[39m\u001b[38;5;124mtrain\u001b[39m\u001b[38;5;124m'\u001b[39m][\u001b[38;5;124m'\u001b[39m\u001b[38;5;124mimage\u001b[39m\u001b[38;5;124m'\u001b[39m]))\n",
      "\u001b[0;31mNameError\u001b[0m: name 'torch' is not defined"
     ]
    }
   ],
   "source": [
    "mean = torch.mean(torch.stack(ds_tensor['train']['image']))\n",
    "std = torch.std(torch.stack(ds_tensor['train']['image']))"
   ]
  },
  {
   "cell_type": "code",
   "execution_count": null,
   "metadata": {},
   "outputs": [],
   "source": [
    "from torchvision.transforms import Resize, Compose, Normalize"
   ]
  },
  {
   "cell_type": "code",
   "execution_count": null,
   "metadata": {},
   "outputs": [],
   "source": [
    "normalize = Normalize(mean=mean, std=std)\n",
    "size = (224, 244)"
   ]
  },
  {
   "cell_type": "code",
   "execution_count": null,
   "metadata": {},
   "outputs": [],
   "source": [
    "_transforms = Compose([Resize(size), ToTensor(), normalize])"
   ]
  },
  {
   "cell_type": "code",
   "execution_count": null,
   "metadata": {},
   "outputs": [],
   "source": [
    "model = EfficientNetModel.from_pretrained('google/efficientnet-b0')"
   ]
  }
 ],
 "metadata": {
  "kernelspec": {
   "display_name": "flaresense-v2",
   "language": "python",
   "name": "python3"
  },
  "language_info": {
   "codemirror_mode": {
    "name": "ipython",
    "version": 3
   },
   "file_extension": ".py",
   "mimetype": "text/x-python",
   "name": "python",
   "nbconvert_exporter": "python",
   "pygments_lexer": "ipython3",
   "version": "3.12.2"
  }
 },
 "nbformat": 4,
 "nbformat_minor": 2
}
