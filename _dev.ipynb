{
 "cells": [
  {
   "cell_type": "code",
   "execution_count": 1,
   "metadata": {},
   "outputs": [
    {
     "name": "stdout",
     "output_type": "stream",
     "text": [
      "PyTorch version 2.2.1+cu121\n",
      "GPU is available: NVIDIA GeForce RTX 4070 Laptop GPU\n"
     ]
    }
   ],
   "source": [
    "from datasets import load_dataset\n",
    "import matplotlib.pyplot as plt\n",
    "import numpy as np\n",
    "from datasets import DatasetDict\n",
    "import torch\n",
    "import numpy as np\n",
    "from torchvision.transforms import Resize, Compose, Normalize\n",
    "\n",
    "from pytorch_lightning.loggers import WandbLogger\n",
    "from pytorch_lightning import Trainer, LightningModule\n",
    "from pytorch_lightning.callbacks import ModelCheckpoint\n",
    "from torchvision import models\n",
    "import torch.nn.functional as F\n",
    "from torchmetrics import Accuracy, F1Score, ConfusionMatrix\n",
    "from sklearn.utils.class_weight import compute_class_weight\n",
    "import wandb\n",
    "\n",
    "# Modeling\n",
    "import torch\n",
    "import torch.nn as nn\n",
    "import numpy as np\n",
    "from torchvision.transforms.functional import pil_to_tensor\n",
    "from torch.utils.data import Dataset,DataLoader\n",
    "\n",
    "# Visualization\n",
    "import matplotlib.pyplot as plt\n",
    "import seaborn as sns\n",
    "%matplotlib inline\n",
    "\n",
    "print(f'PyTorch version {torch.__version__}')\n",
    "import torch\n",
    "\n",
    "# Check if CUDA is available\n",
    "if torch.cuda.is_available():\n",
    "    print(f\"GPU is available: {torch.cuda.get_device_name(0)}\")\n",
    "    device = 'cuda'\n",
    "else:\n",
    "    print(\"GPU is not available.\")\n",
    "    device = 'cpu'"
   ]
  },
  {
   "cell_type": "code",
   "execution_count": 3,
   "metadata": {},
   "outputs": [],
   "source": [
    "ds = load_dataset('i4ds/radio-sunburst-ecallisto')"
   ]
  },
  {
   "cell_type": "code",
   "execution_count": 4,
   "metadata": {},
   "outputs": [],
   "source": [
    "dd = DatasetDict()\n",
    "dd['train'] = ds['train']\n",
    "dd['test'] = ds['test']\n",
    "dd['validation'] = ds['validation']"
   ]
  },
  {
   "cell_type": "code",
   "execution_count": 5,
   "metadata": {},
   "outputs": [],
   "source": [
    "def to_torch_tensor(example):\n",
    "    # Convert the PIL image to a tensor\n",
    "    example['image'] = pil_to_tensor(example['image'])\n",
    "    return example\n",
    "\n",
    "def scale(example, max_value=255):\n",
    "    example['image'] = torch.div(example['image'], max_value)\n",
    "    return example\n",
    "\n",
    "def preprocess(example):\n",
    "    example = to_torch_tensor(example)\n",
    "    example = scale(example)\n",
    "    return example"
   ]
  },
  {
   "cell_type": "code",
   "execution_count": 6,
   "metadata": {},
   "outputs": [],
   "source": [
    "# Dataset\n",
    "class EcallistoData(Dataset):\n",
    "    def __init__(self, dataset, prepro=preprocess, transform=None, return_all_columns=False):\n",
    "        super().__init__()\n",
    "        self.data = dataset\n",
    "        self.prepro = prepro\n",
    "        self.transform = transform\n",
    "        self.return_all_columns = return_all_columns\n",
    "\n",
    "    def __len__(self):\n",
    "        \"\"\"Function to return the number of records in the dataset\n",
    "        \"\"\" \n",
    "        return len(self.data)\n",
    "    \n",
    "    def __getitem__(self, index):\n",
    "        \"\"\"Function to return samples corresponding to a given index from a dataset\n",
    "        \"\"\" \n",
    "        # Transform images\n",
    "        if self.prepro:\n",
    "            img = self.prepro(self.data[index])\n",
    "        if self.transform:\n",
    "            img['image'] = self.transform(img['image'])\n",
    "        if not self.return_all_columns:\n",
    "            return img['image'], torch.tensor(self.data[index]['label'])\n",
    "        else: \n",
    "            return self.data[index]"
   ]
  },
  {
   "cell_type": "code",
   "execution_count": 7,
   "metadata": {},
   "outputs": [],
   "source": [
    "normalize = Normalize(mean=0.5721, std=0.1100)\n",
    "size = (224, 244)"
   ]
  },
  {
   "cell_type": "code",
   "execution_count": 8,
   "metadata": {},
   "outputs": [],
   "source": [
    "_transforms = Compose([Resize(size), normalize])"
   ]
  },
  {
   "cell_type": "code",
   "execution_count": 9,
   "metadata": {},
   "outputs": [],
   "source": [
    "ds_train = EcallistoData(dd['train'], transform=_transforms)\n",
    "ds_valid = EcallistoData(dd['validation'], transform=_transforms)\n",
    "ds_test = EcallistoData(dd['test'], return_all_columns=True)"
   ]
  },
  {
   "cell_type": "code",
   "execution_count": 10,
   "metadata": {},
   "outputs": [],
   "source": [
    "BATCH_SIZE = 32"
   ]
  },
  {
   "cell_type": "code",
   "execution_count": 11,
   "metadata": {},
   "outputs": [],
   "source": [
    "train_dataloader = DataLoader(ds_train,\n",
    "                    batch_size=BATCH_SIZE,\n",
    "                    num_workers=0,\n",
    "                    shuffle=True)\n",
    "\n",
    "val_dataloader = DataLoader(ds_valid,\n",
    "                    batch_size=BATCH_SIZE,\n",
    "                    num_workers=0,\n",
    "                    shuffle=False)"
   ]
  },
  {
   "cell_type": "code",
   "execution_count": 13,
   "metadata": {},
   "outputs": [],
   "source": [
    "class EfficientNet(LightningModule):\n",
    "  def __init__(self, n_classes, class_weights, model_weights=None):\n",
    "    super().__init__()\n",
    "    self.efficient_net = models.efficientnet_v2_s(weights=model_weights)\n",
    "    # Adapt layer to our layer\n",
    "    self.efficient_net.classifier[1] = nn.Linear(in_features=1280, out_features=n_classes, bias=True)\n",
    "    self.accuracy = Accuracy(task=\"multiclass\", num_classes=n_classes, average='macro')\n",
    "    self.f1_score = F1Score(task=\"multiclass\", num_classes=n_classes, average='macro')\n",
    "    self.confmat = ConfusionMatrix(task=\"multiclass\", num_classes=n_classes)\n",
    "    self.class_weights = class_weights\n",
    "    \n",
    "  def forward(self,x):\n",
    "    # Convert grayscale image to 3-channel image if it's not already\n",
    "    if x.size(1) == 1:\n",
    "      x = x.repeat(1, 3, 1, 1)\n",
    "    out = self.efficient_net(x)\n",
    "    return out\n",
    "  \n",
    "  def configure_optimizers(self):\n",
    "    optimizer = torch.optim.Adam(self.parameters(),lr = 1e-4)\n",
    "    return optimizer\n",
    "  \n",
    "  def training_step(self,batch,batch_idx):\n",
    "    x,y = batch\n",
    "    y_hat = self(x)\n",
    "    if self.class_weights is not None:\n",
    "        loss = F.cross_entropy(y_hat, y, weight=self.class_weights.to(y.device))\n",
    "    else:\n",
    "        loss = F.cross_entropy(y_hat, y)\n",
    "    # logs metrics for each training_step - [default:True],\n",
    "    # the average across the epoch, to the progress bar and logger-[default:False]\n",
    "    acc = self.accuracy(y_hat,y)\n",
    "    f1 = self.f1_score(y_hat, y)\n",
    "    self.log(\"train_loss\",loss,on_step=True,on_epoch=True,prog_bar=True,logger=True)\n",
    "    return loss\n",
    "  \n",
    "  def validation_step(self, batch, batch_idx):\n",
    "      x, y = batch\n",
    "      y_hat = self(x)\n",
    "      loss = F.cross_entropy(y_hat, y)\n",
    "      preds = torch.argmax(y_hat, dim=1)\n",
    "      self.confmat.update(preds, y)\n",
    "      acc = self.accuracy(y_hat, y)\n",
    "      f1 = self.f1_score(y_hat, y)\n",
    "      self.log(\"val_acc\", acc, prog_bar=True, logger=True)\n",
    "      self.log(\"val_f1\", f1, prog_bar=True, logger=True)\n",
    "      self.log(\"val_loss\", loss, prog_bar=True, logger=True)\n",
    "\n",
    "  def on_validation_epoch_end(self):\n",
    "      confmat = self.confmat.compute()\n",
    "      fig, ax = plt.subplots()\n",
    "      sns.heatmap(confmat.cpu().numpy(), annot=True, fmt='g', ax=ax)\n",
    "      ax.set_xlabel('Predicted labels')\n",
    "      ax.set_ylabel('True labels')\n",
    "      ax.set_title('Confusion Matrix')\n",
    "\n",
    "      # Log the confusion matrix as an image to wandb\n",
    "      self.logger.experiment.log({\"confusion_matrix\": [wandb.Image(plt, caption=\"Confusion Matrix\")]})\n",
    "\n",
    "      plt.close(fig)\n",
    "\n",
    "      # Reset the confusion matrix for the next epoch\n",
    "      self.confmat.reset()"
   ]
  },
  {
   "cell_type": "code",
   "execution_count": 14,
   "metadata": {},
   "outputs": [],
   "source": [
    "cw = compute_class_weight(class_weight='balanced', classes=np.unique(dd['train']['label']), y=dd['train']['label'])"
   ]
  },
  {
   "cell_type": "code",
   "execution_count": null,
   "metadata": {},
   "outputs": [],
   "source": [
    "wandb.init(entity='vincenzo-timmel')\n",
    "wandb_logger = WandbLogger(log_model=\"all\")"
   ]
  },
  {
   "cell_type": "code",
   "execution_count": 15,
   "metadata": {},
   "outputs": [
    {
     "name": "stderr",
     "output_type": "stream",
     "text": [
      "c:\\Users\\vince\\miniconda3\\envs\\flaresense-v2\\Lib\\site-packages\\pytorch_lightning\\loggers\\wandb.py:390: There is a wandb run already in progress and newly created instances of `WandbLogger` will reuse this run. If this is not desired, call `wandb.finish()` before instantiating `WandbLogger`.\n"
     ]
    }
   ],
   "source": [
    "# Checkpoint to save the best model based on the lowest validation loss\n",
    "checkpoint_callback_loss = ModelCheckpoint(\n",
    "    monitor='val_loss',\n",
    "    dirpath=wandb_logger.experiment.dir,\n",
    "    filename='efficientnet-loss-{epoch:02d}-{val_loss:.2f}',\n",
    "    save_top_k=1,\n",
    "    mode='min',\n",
    ")\n",
    "\n",
    "# Checkpoint to save the best model based on the highest F1 score\n",
    "checkpoint_callback_f1 = ModelCheckpoint(\n",
    "    monitor='val_f1',\n",
    "    dirpath=wandb_logger.experiment.dir,\n",
    "    filename='efficientnet-f1-{epoch:02d}-{val_f1:.2f}',\n",
    "    save_top_k=1,\n",
    "    mode='max',\n",
    ")"
   ]
  },
  {
   "cell_type": "code",
   "execution_count": 16,
   "metadata": {},
   "outputs": [],
   "source": [
    "model = EfficientNet(len(np.unique(dd['train']['label'])), torch.tensor(cw, dtype=torch.float))"
   ]
  },
  {
   "cell_type": "code",
   "execution_count": 17,
   "metadata": {},
   "outputs": [
    {
     "name": "stderr",
     "output_type": "stream",
     "text": [
      "GPU available: True (cuda), used: True\n"
     ]
    },
    {
     "name": "stderr",
     "output_type": "stream",
     "text": [
      "TPU available: False, using: 0 TPU cores\n",
      "IPU available: False, using: 0 IPUs\n",
      "HPU available: False, using: 0 HPUs\n",
      "You are using a CUDA device ('NVIDIA GeForce RTX 4070 Laptop GPU') that has Tensor Cores. To properly utilize them, you should set `torch.set_float32_matmul_precision('medium' | 'high')` which will trade-off precision for performance. For more details, read https://pytorch.org/docs/stable/generated/torch.set_float32_matmul_precision.html#torch.set_float32_matmul_precision\n",
      "c:\\Users\\vince\\miniconda3\\envs\\flaresense-v2\\Lib\\site-packages\\pytorch_lightning\\callbacks\\model_checkpoint.py:652: Checkpoint directory C:\\Users\\vince\\FlareSense-v2\\wandb\\run-20240304_183127-eugldxv0\\files exists and is not empty.\n",
      "LOCAL_RANK: 0 - CUDA_VISIBLE_DEVICES: [0]\n",
      "\n",
      "  | Name          | Type                      | Params\n",
      "------------------------------------------------------------\n",
      "0 | efficient_net | EfficientNet              | 20.2 M\n",
      "1 | accuracy      | MulticlassAccuracy        | 0     \n",
      "2 | f1_score      | MulticlassF1Score         | 0     \n",
      "3 | confmat       | MulticlassConfusionMatrix | 0     \n",
      "------------------------------------------------------------\n",
      "20.2 M    Trainable params\n",
      "0         Non-trainable params\n",
      "20.2 M    Total params\n",
      "80.746    Total estimated model params size (MB)\n"
     ]
    },
    {
     "data": {
      "application/vnd.jupyter.widget-view+json": {
       "model_id": "c87a7884f8e94174a92f6e5d4cccc45d",
       "version_major": 2,
       "version_minor": 0
      },
      "text/plain": [
       "Sanity Checking: |          | 0/? [00:00<?, ?it/s]"
      ]
     },
     "metadata": {},
     "output_type": "display_data"
    },
    {
     "name": "stderr",
     "output_type": "stream",
     "text": [
      "c:\\Users\\vince\\miniconda3\\envs\\flaresense-v2\\Lib\\site-packages\\pytorch_lightning\\trainer\\connectors\\data_connector.py:441: The 'val_dataloader' does not have many workers which may be a bottleneck. Consider increasing the value of the `num_workers` argument` to `num_workers=19` in the `DataLoader` to improve performance.\n",
      "c:\\Users\\vince\\miniconda3\\envs\\flaresense-v2\\Lib\\site-packages\\pytorch_lightning\\trainer\\connectors\\data_connector.py:441: The 'train_dataloader' does not have many workers which may be a bottleneck. Consider increasing the value of the `num_workers` argument` to `num_workers=19` in the `DataLoader` to improve performance.\n"
     ]
    },
    {
     "data": {
      "application/vnd.jupyter.widget-view+json": {
       "model_id": "6d1eed4681124954a6bb5a94ac74e36a",
       "version_major": 2,
       "version_minor": 0
      },
      "text/plain": [
       "Training: |          | 0/? [00:00<?, ?it/s]"
      ]
     },
     "metadata": {},
     "output_type": "display_data"
    },
    {
     "data": {
      "application/vnd.jupyter.widget-view+json": {
       "model_id": "9719966144734b048665e9b90ce75721",
       "version_major": 2,
       "version_minor": 0
      },
      "text/plain": [
       "Validation: |          | 0/? [00:00<?, ?it/s]"
      ]
     },
     "metadata": {},
     "output_type": "display_data"
    },
    {
     "data": {
      "application/vnd.jupyter.widget-view+json": {
       "model_id": "e1574e24466a4860824933147ece0803",
       "version_major": 2,
       "version_minor": 0
      },
      "text/plain": [
       "Validation: |          | 0/? [00:00<?, ?it/s]"
      ]
     },
     "metadata": {},
     "output_type": "display_data"
    },
    {
     "data": {
      "application/vnd.jupyter.widget-view+json": {
       "model_id": "a407e7d695d44441bc6ef2ec3893567e",
       "version_major": 2,
       "version_minor": 0
      },
      "text/plain": [
       "Validation: |          | 0/? [00:00<?, ?it/s]"
      ]
     },
     "metadata": {},
     "output_type": "display_data"
    },
    {
     "data": {
      "application/vnd.jupyter.widget-view+json": {
       "model_id": "e5772a30df514444b62a13dcdae9619f",
       "version_major": 2,
       "version_minor": 0
      },
      "text/plain": [
       "Validation: |          | 0/? [00:00<?, ?it/s]"
      ]
     },
     "metadata": {},
     "output_type": "display_data"
    },
    {
     "name": "stderr",
     "output_type": "stream",
     "text": [
      "c:\\Users\\vince\\miniconda3\\envs\\flaresense-v2\\Lib\\site-packages\\pytorch_lightning\\trainer\\call.py:54: Detected KeyboardInterrupt, attempting graceful shutdown...\n"
     ]
    }
   ],
   "source": [
    "trainer = Trainer(\n",
    "    accelerator='gpu', \n",
    "    max_epochs=1, \n",
    "    logger=wandb_logger,\n",
    "    callbacks=[checkpoint_callback_loss, checkpoint_callback_f1],\n",
    "    val_check_interval=200)\n",
    "trainer.fit(\n",
    "    model=model, \n",
    "    train_dataloaders=train_dataloader,\n",
    "    val_dataloaders=val_dataloader)\n"
   ]
  },
  {
   "cell_type": "code",
   "execution_count": null,
   "metadata": {},
   "outputs": [],
   "source": []
  }
 ],
 "metadata": {
  "kernelspec": {
   "display_name": "flaresense-v2",
   "language": "python",
   "name": "python3"
  },
  "language_info": {
   "codemirror_mode": {
    "name": "ipython",
    "version": 3
   },
   "file_extension": ".py",
   "mimetype": "text/x-python",
   "name": "python",
   "nbconvert_exporter": "python",
   "pygments_lexer": "ipython3",
   "version": "3.12.2"
  }
 },
 "nbformat": 4,
 "nbformat_minor": 2
}
